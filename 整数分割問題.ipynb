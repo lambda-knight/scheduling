{
 "cells": [
  {
   "cell_type": "markdown",
   "metadata": {},
   "source": [
    "以下の論文をD-Waveを利用して解いていく\n",
    "\n",
    "https://www.frontiersin.org/articles/10.3389/fphy.2014.00005/full\n",
    "\n",
    "日本語の詳しいサイトです\n",
    "\n",
    "https://quantum.fixstars.com/introduction_to_quantum_computer/quantum_computer_research/np_problem_ising/"
   ]
  },
  {
   "cell_type": "code",
   "execution_count": null,
   "metadata": {},
   "outputs": [],
   "source": [
    "%matplotlib inline\n",
    "from sympy import *\n",
    "init_printing()\n",
    "from sympy.printing.mathml import print_mathml"
   ]
  },
  {
   "cell_type": "markdown",
   "metadata": {},
   "source": [
    "# Partitioning Problems(分割問題)"
   ]
  },
  {
   "cell_type": "markdown",
   "metadata": {},
   "source": [
    "## 整数分割問題"
   ]
  },
  {
   "cell_type": "markdown",
   "metadata": {},
   "source": [
    "### 整数分割問題とは\n",
    "自然数分割問題とは2つのグループの和が等しくなるように自然数を分けるものである。\n",
    "自然数のグループを$q_i$で表してみる。1つめのグループを$q_1$、2つめのグループを$q_2$とすると$q_1$と$q_2$のグループの\n",
    "自然数の和が等しいときに最小になるようなコスト関数Eを考える。\n",
    "\n",
    "$E =  f(x) = \\{ \\sum_{i=1}^N n_i \\times (2q_i - 1)  \\}^2$\n",
    "\n",
    "上記のようにすると、\n",
    "- 自然数$n_i$がグループAに属するときは$2q_i - 1 = 1$\n",
    "- 自然数$n_i$がグループBに属するときは$2q_i - 1 = -1$\n",
    "\n",
    "従って、双方のグループの和が等しい場合に$E = 1$となる。"
   ]
  },
  {
   "cell_type": "code",
   "execution_count": null,
   "metadata": {},
   "outputs": [],
   "source": [
    "E, i, N, q_i,j = symbols('E i N q_i j')\n",
    "n_i = Symbol('n_i')\n",
    "#n_i = numbered_symbols('n') # うまく行かない\n",
    "E = Sum(n_i*(2*q_i -1),(i,1,N))**2\n",
    "ex = E.expand(basic=True)\n",
    "ex"
   ]
  },
  {
   "cell_type": "markdown",
   "metadata": {},
   "source": [
    "$(\\sum_{i=1}^N - n_i)^2$の項は最小関数を求めるので不要である。また、全体を4で割る。"
   ]
  },
  {
   "cell_type": "code",
   "execution_count": null,
   "metadata": {},
   "outputs": [],
   "source": [
    "q_j,n_j = symbols('q_j n_j')\n",
    "Sum(n_i*q_i, (i, 1, N))**2 - Sum(n_i, (i, 1, N))*Sum(n_j*q_j, (j, 1, N))"
   ]
  },
  {
   "cell_type": "markdown",
   "metadata": {},
   "source": [
    "$q_i = 0$または$q_i = 1$のときには$q_i^2=q_i$である。また、$\\sum_{i=1}^N n_i $はnの総和であり、$n_s$ とする。"
   ]
  },
  {
   "cell_type": "code",
   "execution_count": null,
   "metadata": {},
   "outputs": [],
   "source": [
    "n_sum = Symbol('n_sum')\n",
    "Sum(n_i*q_i, (i, 1, N))**2 - n_sum*Sum(n_j*q_j, (j, 1, N))"
   ]
  },
  {
   "cell_type": "markdown",
   "metadata": {},
   "source": [
    "\n",
    "\n",
    "　$E=\\sum_{i=1}^{N}(n_i^2 - n_{sum}n_i)q_i +2 \\sum_{i < j}n_in_jq_iq_j$ \n",
    "\n",
    "\n",
    "　$qubo = \\left[\\begin{array}{rrrrr}n_1^2 - n_{sum}n_1 & 2n_1n_2 & 2n_1n_3 & 2n_1n_4 & ...\\\\ 0 & n_2^2 - n_{sum}n_2 & 2n_2n_3& 2n_2n_4 &...\\\\ 0 & 0 & n_3^2 - n_{sum}n_3 & 2n_3n_4 & ...\\\\ 0 & 0 & 0 & n_4^2 - n_{sum}n_4 & ...\\\\ ... & ... & ... & ... &... \\end{array} \\right]$ "
   ]
  },
  {
   "cell_type": "code",
   "execution_count": null,
   "metadata": {},
   "outputs": [],
   "source": [
    "def get_results(result, max):\n",
    "    r = []\n",
    "    R = iter(result)\n",
    "    E = iter(result.data())\n",
    "    print(len(result))\n",
    "    i = 0\n",
    "    for line in result:\n",
    "        sample = next(R)\n",
    "        data = next(E)\n",
    "        energy = data.energy\n",
    "        occurrences = data.num_occurrences\n",
    "        r.append([energy, sample,occurrences])\n",
    "\n",
    "        i = i + 1\n",
    "        if i >= max:\n",
    "            break\n",
    "        #print(f'{energy},{sample}, {occurrences}')\n",
    "    return r\n",
    "\n",
    "def divide_groups(sample):\n",
    "    keys = sample.keys()\n",
    "    arr = [0] * len(keys)\n",
    "    for key in keys:\n",
    "        arr[key] = sample[key]\n",
    "    return arr"
   ]
  },
  {
   "cell_type": "code",
   "execution_count": null,
   "metadata": {},
   "outputs": [],
   "source": [
    "import dwave.inspector\n",
    "from dwave.system.samplers import DWaveSampler\n",
    "from dwave.system.composites import EmbeddingComposite\n",
    "import numpy as np\n",
    "\n",
    "N = 5\n",
    "np.random.seed(8123172)\n",
    "arr = np.random.randint(1, N, N)\n",
    "\n",
    "Q = {}\n",
    "# numbers = [3,2,6,9,2,5,7,3,3,6,7,3,5,3,2,2,2,6,8,4,6,3,3,6,4,3,3,2,2,5,8,9]\n",
    "numbers = arr.tolist()\n",
    "sum_n = sum(numbers)\n",
    "for i in range(len(numbers)):\n",
    "  for j in range(len(numbers)):\n",
    "    if i == j:\n",
    "      Q[i,j]=numbers[i]**2-sum_n*numbers[i]\n",
    "    elif i<j:\n",
    "      Q[i,j]=2*numbers[i] * numbers[j]\n",
    "    \n",
    "print('setup qubo finished.....')\n",
    "sampler = EmbeddingComposite(DWaveSampler(qpu='Advantage_system1.1')) \n",
    "print('enbedding finished.....')\n",
    "result = sampler.sample_qubo(Q, chain_strength=3, num_reads=1000)\n",
    "print('get result from d-wave.....')"
   ]
  },
  {
   "cell_type": "code",
   "execution_count": null,
   "metadata": {},
   "outputs": [],
   "source": [
    "print(arr)\n",
    "ret = get_results(result,5)\n",
    "for item in ret:\n",
    "    ans = divide_groups(item[1])\n",
    "    print(ans)\n",
    "    r = range(len(ans))\n",
    "    group_1 = []\n",
    "    group_2 = []\n",
    "    for i in r:\n",
    "        if ans[i]==0:\n",
    "            group_1.append(numbers[i])\n",
    "        else:\n",
    "            group_2.append(numbers[i])\n",
    "    # print(item[0],len(group_1),sum(group_1),len(group_2),sum(group_2))\n",
    "    print('no of elements in group_1=',len(group_1),'sum in group_1=',sum(group_1))\n",
    "    print('no of elements in group_2=',len(group_2),'sum in group_2=',sum(group_2))"
   ]
  },
  {
   "cell_type": "code",
   "execution_count": null,
   "metadata": {},
   "outputs": [],
   "source": [
    "#dwave.inspector.show(result) "
   ]
  },
  {
   "cell_type": "code",
   "execution_count": null,
   "metadata": {},
   "outputs": [],
   "source": [
    "1"
   ]
  },
  {
   "cell_type": "code",
   "execution_count": null,
   "metadata": {},
   "outputs": [],
   "source": []
  }
 ],
 "metadata": {
  "kernelspec": {
   "display_name": "Python 3 (ipykernel)",
   "language": "python",
   "name": "python3"
  },
  "language_info": {
   "codemirror_mode": {
    "name": "ipython",
    "version": 3
   },
   "file_extension": ".py",
   "mimetype": "text/x-python",
   "name": "python",
   "nbconvert_exporter": "python",
   "pygments_lexer": "ipython3",
   "version": "3.9.9"
  }
 },
 "nbformat": 4,
 "nbformat_minor": 4
}
