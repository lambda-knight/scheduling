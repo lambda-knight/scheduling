{
 "cells": [
  {
   "cell_type": "code",
   "execution_count": 1,
   "id": "79e1a18e-8bf3-4708-b5e5-4425639d1951",
   "metadata": {},
   "outputs": [
    {
     "name": "stdout",
     "output_type": "stream",
     "text": [
      "Requirement already satisfied: funcy in /Users/makoto/opt/anaconda3/lib/python3.9/site-packages (1.17)\n"
     ]
    }
   ],
   "source": [
    "!pip install funcy"
   ]
  },
  {
   "cell_type": "code",
   "execution_count": 1,
   "id": "0c6025a2-3fb8-4122-a00d-dcb5e2991185",
   "metadata": {},
   "outputs": [],
   "source": [
    "import numpy as np\n",
    "\n",
    "from funcy  import *\n",
    "from neal   import SimulatedAnnealingSampler\n",
    "from pyqubo import Array, Constraint, Placeholder"
   ]
  },
  {
   "cell_type": "code",
   "execution_count": 13,
   "id": "9421ef14-1b02-46a5-a146-955c35fbda18",
   "metadata": {},
   "outputs": [],
   "source": [
    "BETA_RANGE         = (5, 100)  # 焼きなましの温度の逆数。大きい方が解が安定しますが、局所解に陥る可能性が高くなってしまいます\n",
    "NUM_READS          = 1000        # 焼きなましする回数。NUM_READS個の解が生成されます。多いほうが良い解がでる可能性が高くなります\n",
    "NUM_SWEEPS         = 100000    # 焼きなましのステップを実施する回数。1つの解を生成するために繰り返し処理をする回数です。大きい方が良い解がでる可能性が高くなります\n",
    "BETA_SCHEDULE_TYPE = 'linear'  # 焼きなましの温度をどのように変化させるか。linearだと線形に変化させます\n",
    "\n",
    "def calc_pyqubo(bqm):\n",
    "    import neal\n",
    "    sa = neal.SimulatedAnnealingSampler()\n",
    "    sampleset = sa.sample(bqm, beta_range=BETA_RANGE, \n",
    "                          num_reads=NUM_READS, num_sweeps=NUM_SWEEPS, \n",
    "                          beta_schedule_type=BETA_SCHEDULE_TYPE, seed=1)\n",
    "    # Decode solution\n",
    "    decoded_samples = model.decode_sampleset(sampleset, feed_dict=feed_dict)\n",
    "    best_sample = min(decoded_samples, key=lambda x: x.energy)\n",
    "    num_broken = len(best_sample.constraints(only_broken=True))\n",
    "    print(\"number of broken constarint = {}\".format(num_broken))\n",
    "    return best_sample.sample"
   ]
  },
  {
   "cell_type": "code",
   "execution_count": 14,
   "id": "429a6b4d-5faf-4bed-849d-424fb7bf5094",
   "metadata": {},
   "outputs": [],
   "source": [
    "M = 5   # 社員の数\n",
    "D = 5  # 日数\n",
    "\n",
    "# QUBOを構成する変数を定義します\n",
    "xs = Array.create('x', shape=(M, D), vartype='BINARY')\n",
    "\n",
    "# チューニングのための変数を定義します\n",
    "a = Placeholder('A')\n",
    "b = Placeholder('B')\n",
    "\n",
    "# QUBOを定義します。ここから……\n",
    "h = 0\n",
    "\n",
    "# 1日に2名以上、かつ、できるだけ少なくという制約を追加します。2名より多くても少なくてもペナルティが発生するようになっています\n",
    "for d in range(D):\n",
    "    # 2を引くと、少なければ負、多ければ正の数になるわけですが、それを2乗して正の値にします\n",
    "    h += a * Constraint((sum(xs[m][d] for m in range(M)) - 2) ** 2, f'day-{d}') \n",
    "# 同じ人と別の日に出社しないという制約を追加します\n",
    "for m1 in range(M):\n",
    "    for m2 in range(m1 + 1, M):\n",
    "        for d1 in range(D):\n",
    "            for d2 in range(d1 + 1, D):\n",
    "                # xsは1か0なので、掛け算をする場合は、全部1の場合にだけ1になりますのでペナルティとなります。\n",
    "                # 要は2つの日で同じひとと出勤したときのみ以下の式は1となります\n",
    "                h += b * xs[m1][d1] * xs[m2][d1] * xs[m1][d2] * xs[m2][d2] "
   ]
  },
  {
   "cell_type": "code",
   "execution_count": 15,
   "id": "3808643a-3b04-436c-ab3e-e88f4e36f493",
   "metadata": {},
   "outputs": [],
   "source": [
    "# コンパイルしてモデルを作ります\n",
    "model = h.compile()\n",
    "# ……ここまで。QUBOを定義します\n",
    "\n",
    "# チューニングのための変数の値\n",
    "feed_dict = {'A': 2.0, 'B': 1.0}\n",
    "\n",
    "# イジング模型を生成して、nealで解きます\n",
    "bqm = model.to_bqm(feed_dict=feed_dict)\n",
    "qubo = model.to_qubo(feed_dict=feed_dict)"
   ]
  },
  {
   "cell_type": "code",
   "execution_count": 16,
   "id": "c999b5b8-923e-40e5-b80f-327a400dc483",
   "metadata": {},
   "outputs": [
    {
     "name": "stdout",
     "output_type": "stream",
     "text": [
      "number of broken constarint = 0\n",
      "エネルギー値= -40.0\n"
     ]
    }
   ],
   "source": [
    "def get_energy(Q,sol):\n",
    "    return sum (sol[q[0]] * sol[q[1]] * Q[q] for q in Q)\n",
    "\n",
    "sol = calc_pyqubo(bqm)\n",
    "Q = qubo[0]\n",
    "print('エネルギー値=',get_energy(Q,sol))"
   ]
  },
  {
   "cell_type": "code",
   "execution_count": 20,
   "id": "79e1fd0c-9778-4c43-8015-7e93395481f3",
   "metadata": {},
   "outputs": [
    {
     "name": "stdout",
     "output_type": "stream",
     "text": [
      "[[0 0 0 0 1]\n",
      " [1 0 0 1 0]\n",
      " [1 0 1 0 1]\n",
      " [0 1 1 0 0]\n",
      " [0 1 0 1 0]]\n",
      "[4, 0, 3, 0, 2, 4, 1, 2, 1, 3]\n"
     ]
    }
   ],
   "source": [
    "def gen_str_arr(s,i,j):\n",
    "    return s+'['+str(i)+']['+str(j)+']'\n",
    "\n",
    "\n",
    "if sol:\n",
    "    mat = np.full((M, D), -1)\n",
    "    city_order = []\n",
    "    for i in range(M):\n",
    "        for j in range(D):\n",
    "            mat[i,j] =  sol[gen_str_arr('x', i, j)]\n",
    "            if sol[gen_str_arr('x', i, j)] == 1:\n",
    "                city_order.append(j)\n",
    "    print(mat)\n",
    "    print(city_order)"
   ]
  },
  {
   "cell_type": "code",
   "execution_count": 21,
   "id": "7ef4f6e4-8a4a-4491-8523-4d74a4e27818",
   "metadata": {},
   "outputs": [
    {
     "ename": "TypeError",
     "evalue": "only integer scalar arrays can be converted to a scalar index",
     "output_type": "error",
     "traceback": [
      "\u001b[0;31m---------------------------------------------------------------------------\u001b[0m",
      "\u001b[0;31mTypeError\u001b[0m                                 Traceback (most recent call last)",
      "Input \u001b[0;32mIn [21]\u001b[0m, in \u001b[0;36m<cell line: 2>\u001b[0;34m()\u001b[0m\n\u001b[1;32m      1\u001b[0m \u001b[38;5;66;03m# 日単位で、出社する社員を出力します\u001b[39;00m\n\u001b[1;32m      2\u001b[0m \u001b[38;5;28;01mfor\u001b[39;00m d \u001b[38;5;129;01min\u001b[39;00m \u001b[38;5;28mrange\u001b[39m(D):\n\u001b[0;32m----> 3\u001b[0m     \u001b[38;5;28mprint\u001b[39m(\u001b[38;5;28;43mtuple\u001b[39;49m\u001b[43m(\u001b[49m\u001b[43mkeep\u001b[49m\u001b[43m(\u001b[49m\u001b[38;5;28;43;01mlambda\u001b[39;49;00m\u001b[43m \u001b[49m\u001b[43mm\u001b[49m\u001b[43m:\u001b[49m\u001b[43m \u001b[49m\u001b[38;5;124;43m'\u001b[39;49m\u001b[38;5;124;43mABCDE\u001b[39;49m\u001b[38;5;124;43m'\u001b[39;49m\u001b[43m[\u001b[49m\u001b[43mmat\u001b[49m\u001b[43m]\u001b[49m\u001b[43m \u001b[49m\u001b[38;5;28;43;01mif\u001b[39;49;00m\u001b[43m \u001b[49m\u001b[43msol\u001b[49m\u001b[43m[\u001b[49m\u001b[43mgen_str_arr\u001b[49m\u001b[43m(\u001b[49m\u001b[38;5;124;43m'\u001b[39;49m\u001b[38;5;124;43mx\u001b[39;49m\u001b[38;5;124;43m'\u001b[39;49m\u001b[43m,\u001b[49m\u001b[43m \u001b[49m\u001b[43mm\u001b[49m\u001b[43m,\u001b[49m\u001b[43m \u001b[49m\u001b[43md\u001b[49m\u001b[43m)\u001b[49m\u001b[43m]\u001b[49m\u001b[43m \u001b[49m\u001b[38;5;241;43m==\u001b[39;49m\u001b[43m \u001b[49m\u001b[38;5;241;43m1\u001b[39;49m\u001b[43m \u001b[49m\u001b[38;5;28;43;01melse\u001b[39;49;00m\u001b[43m \u001b[49m\u001b[38;5;28;43;01mFalse\u001b[39;49;00m\u001b[43m,\u001b[49m\u001b[43m \u001b[49m\u001b[38;5;28;43mrange\u001b[39;49m\u001b[43m(\u001b[49m\u001b[43mM\u001b[49m\u001b[43m)\u001b[49m\u001b[43m)\u001b[49m\u001b[43m)\u001b[49m)\n",
      "Input \u001b[0;32mIn [21]\u001b[0m, in \u001b[0;36m<lambda>\u001b[0;34m(m)\u001b[0m\n\u001b[1;32m      1\u001b[0m \u001b[38;5;66;03m# 日単位で、出社する社員を出力します\u001b[39;00m\n\u001b[1;32m      2\u001b[0m \u001b[38;5;28;01mfor\u001b[39;00m d \u001b[38;5;129;01min\u001b[39;00m \u001b[38;5;28mrange\u001b[39m(D):\n\u001b[0;32m----> 3\u001b[0m     \u001b[38;5;28mprint\u001b[39m(\u001b[38;5;28mtuple\u001b[39m(keep(\u001b[38;5;28;01mlambda\u001b[39;00m m: \u001b[38;5;124;43m'\u001b[39;49m\u001b[38;5;124;43mABCDE\u001b[39;49m\u001b[38;5;124;43m'\u001b[39;49m\u001b[43m[\u001b[49m\u001b[43mmat\u001b[49m\u001b[43m]\u001b[49m \u001b[38;5;28;01mif\u001b[39;00m sol[gen_str_arr(\u001b[38;5;124m'\u001b[39m\u001b[38;5;124mx\u001b[39m\u001b[38;5;124m'\u001b[39m, m, d)] \u001b[38;5;241m==\u001b[39m \u001b[38;5;241m1\u001b[39m \u001b[38;5;28;01melse\u001b[39;00m \u001b[38;5;28;01mFalse\u001b[39;00m, \u001b[38;5;28mrange\u001b[39m(M))))\n",
      "\u001b[0;31mTypeError\u001b[0m: only integer scalar arrays can be converted to a scalar index"
     ]
    }
   ],
   "source": [
    "# 日単位で、出社する社員を出力します\n",
    "for d in range(D):\n",
    "    print(tuple(keep(lambda m: 'ABCDE'[mat] if sol[gen_str_arr('x', m, d)] == 1 else False, range(M))))"
   ]
  },
  {
   "cell_type": "code",
   "execution_count": 19,
   "id": "70dd185a-b192-45a2-b354-d4c67eedcf14",
   "metadata": {},
   "outputs": [
    {
     "data": {
      "text/plain": [
       "{'x[4][4] * x[2][4]': 0,\n",
       " 'x[4][3] * x[2][3]': 0,\n",
       " 'x[4][3]': 1,\n",
       " 'x[4][2] * x[2][2]': 0,\n",
       " 'x[4][2] * x[1][2]': 0,\n",
       " 'x[4][1] * x[1][1]': 0,\n",
       " 'x[4][4] * x[1][4]': 0,\n",
       " 'x[4][1]': 1,\n",
       " 'x[3][4] * x[2][4]': 0,\n",
       " 'x[3][4] * x[1][4]': 0,\n",
       " 'x[3][4] * x[4][4]': 0,\n",
       " 'x[3][4] * x[0][4]': 0,\n",
       " 'x[4][1] * x[0][1]': 0,\n",
       " 'x[3][4]': 0,\n",
       " 'x[4][3] * x[0][3]': 0,\n",
       " 'x[4][0] * x[2][0]': 0,\n",
       " 'x[3][3] * x[4][3]': 0,\n",
       " 'x[3][3] * x[2][3]': 0,\n",
       " 'x[3][3]': 0,\n",
       " 'x[3][2] * x[2][2]': 1,\n",
       " 'x[3][2] * x[4][2]': 0,\n",
       " 'x[4][0] * x[1][0]': 0,\n",
       " 'x[3][2] * x[0][2]': 0,\n",
       " 'x[3][2]': 1,\n",
       " 'x[3][1] * x[2][1]': 0,\n",
       " 'x[3][0]': 0,\n",
       " 'x[3][1] * x[1][1]': 0,\n",
       " 'x[3][0] * x[2][0]': 0,\n",
       " 'x[2][3] * x[0][3]': 0,\n",
       " 'x[2][2] * x[1][2]': 0,\n",
       " 'x[3][3] * x[0][3]': 0,\n",
       " 'x[2][2] * x[0][2]': 0,\n",
       " 'x[2][2]': 1,\n",
       " 'x[4][0]': 0,\n",
       " 'x[3][0] * x[0][0]': 0,\n",
       " 'x[4][0] * x[0][0]': 0,\n",
       " 'x[2][1] * x[1][1]': 0,\n",
       " 'x[4][2]': 0,\n",
       " 'x[3][3] * x[1][3]': 0,\n",
       " 'x[2][1] * x[0][1]': 0,\n",
       " 'x[4][4]': 0,\n",
       " 'x[2][0] * x[0][0]': 0,\n",
       " 'x[3][2] * x[1][2]': 0,\n",
       " 'x[2][3] * x[1][3]': 0,\n",
       " 'x[1][4] * x[0][4]': 0,\n",
       " 'x[4][4] * x[0][4]': 0,\n",
       " 'x[1][0] * x[0][0]': 0,\n",
       " 'x[1][0]': 1,\n",
       " 'x[1][4]': 0,\n",
       " 'x[1][3] * x[0][3]': 0,\n",
       " 'x[3][1] * x[4][1]': 1,\n",
       " 'x[2][3]': 0,\n",
       " 'x[4][3] * x[1][3]': 1,\n",
       " 'x[3][1]': 1,\n",
       " 'x[1][2]': 0,\n",
       " 'x[4][2] * x[0][2]': 0,\n",
       " 'x[1][1]': 0,\n",
       " 'x[2][4] * x[1][4]': 0,\n",
       " 'x[0][1]': 0,\n",
       " 'x[0][0]': 0,\n",
       " 'x[1][2] * x[0][2]': 0,\n",
       " 'x[3][1] * x[0][1]': 0,\n",
       " 'x[2][4]': 1,\n",
       " 'x[4][1] * x[2][1]': 0,\n",
       " 'x[1][1] * x[0][1]': 0,\n",
       " 'x[2][1]': 0,\n",
       " 'x[2][0]': 1,\n",
       " 'x[3][0] * x[1][0]': 0,\n",
       " 'x[0][3]': 0,\n",
       " 'x[3][0] * x[4][0]': 0,\n",
       " 'x[2][0] * x[1][0]': 1,\n",
       " 'x[2][4] * x[0][4]': 1,\n",
       " 'x[0][4]': 1,\n",
       " 'x[1][3]': 1,\n",
       " 'x[0][2]': 0}"
      ]
     },
     "execution_count": 19,
     "metadata": {},
     "output_type": "execute_result"
    }
   ],
   "source": [
    "sol"
   ]
  },
  {
   "cell_type": "code",
   "execution_count": null,
   "id": "f4f6a657-6994-4bf3-ade3-bb419fa20f2f",
   "metadata": {},
   "outputs": [],
   "source": []
  }
 ],
 "metadata": {
  "kernelspec": {
   "display_name": "Python 3 (ipykernel)",
   "language": "python",
   "name": "python3"
  },
  "language_info": {
   "codemirror_mode": {
    "name": "ipython",
    "version": 3
   },
   "file_extension": ".py",
   "mimetype": "text/x-python",
   "name": "python",
   "nbconvert_exporter": "python",
   "pygments_lexer": "ipython3",
   "version": "3.9.13"
  }
 },
 "nbformat": 4,
 "nbformat_minor": 5
}
