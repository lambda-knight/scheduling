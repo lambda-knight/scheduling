{
 "cells": [
  {
   "cell_type": "code",
   "execution_count": null,
   "id": "c94f45d8-9170-4d37-bad8-c6d2ebcdc9ff",
   "metadata": {},
   "outputs": [],
   "source": [
    "from pyqubo import Integer\n",
    "W = 20\n",
    "c = {0:5, 1:7,  2:2, 3:1, 4:4, 5:3}\n",
    "w = {0:8, 1:10, 2:6, 3:4, 4:5, 5:3}\n",
    "N = len(w)"
   ]
  },
  {
   "cell_type": "code",
   "execution_count": null,
   "id": "f9c44dbf-6702-4bb1-9b52-735a7a710913",
   "metadata": {},
   "outputs": [],
   "source": [
    "from pyqubo import Array, LogEncInteger\n",
    "\n",
    "x = Array.create('x', shape=(N), vartype='BINARY')\n",
    "y = LogEncInteger(\"y\", (0, W))"
   ]
  },
  {
   "cell_type": "code",
   "execution_count": 6,
   "id": "18e95a7f-f14e-42cd-a75a-e332a6139658",
   "metadata": {},
   "outputs": [],
   "source": [
    "class LogEncInteger(Integer):\n",
    "    def __init__(self, label, lower, upper):\n",
    "        assert upper > lower, \"upper value should be larger than lower value\"\n",
    "        assert isinstance(lower, int)\n",
    "        assert isinstance(upper, int)\n",
    "\n",
    "        self.lower = lower\n",
    "        self.upper = upper\n",
    "        self._num_variables = int(np.log2(upper - lower))+1\n",
    "        self.array = Array.create(label, shape=self._num_variables, vartype='BINARY')\n",
    "        self.label = label\n",
    "        self._express = lower + sum(x*2**i for i, x in enumerate(self.array))"
   ]
  },
  {
   "cell_type": "code",
   "execution_count": 7,
   "id": "74c0a624-a9e5-4dc9-bf64-41134e451b81",
   "metadata": {},
   "outputs": [],
   "source": [
    "from pyqubo import Constraint\n",
    "\n",
    "key1 = max(c, key = lambda k: c[k])\n",
    "B = 40\n",
    "A = 10 * B * c[key1]\n",
    "\n",
    "HA = Constraint(\n",
    "    A * ( W - sum( w[a] * x[a] for a in range(N) ) - y )**2\n",
    "    , label='HA'\n",
    ")\n",
    "\n",
    "HB = - B * sum( c[a] * x[a] for a in range(N) )"
   ]
  },
  {
   "cell_type": "code",
   "execution_count": 8,
   "id": "e4b8b4d8-1f7b-49d5-aaae-7261492209e8",
   "metadata": {},
   "outputs": [
    {
     "name": "stdout",
     "output_type": "stream",
     "text": [
      "[Inputs]\n",
      "\n",
      "W (ナップサックの容量) : 2.0kg\n",
      "N (宝物の数): 6\n",
      "\n",
      "weight list\n",
      "{0: 8, 1: 10, 2: 6, 3: 4, 4: 5, 5: 3}\n",
      "\n",
      "cost list\n",
      "{0: 5, 1: 7, 2: 2, 3: 1, 4: 4, 5: 3}\n",
      "\n",
      "A : 2800\n",
      "B : 40\n",
      "\n",
      "[Results]\n",
      "\n",
      "decoded_sample.sample:\n",
      "{'y[3]': 0, 'y[2]': 0, 'y[1]': 1, 'y[0]': 0, 'y[4]': 0, 'x[5]': 1, 'x[4]': 1, 'x[3]': 0, 'x[2]': 0, 'x[1]': 1, 'x[0]': 0}\n",
      "\n",
      "x (選ばれた宝物) :\n",
      "宝物B\n",
      "宝物E\n",
      "宝物F\n",
      "\n",
      "スラック変数Y = 2\n",
      "\n",
      "broken\n",
      "{}\n",
      "合計の重さ : 1.8kg\n",
      "合計の価格 : $14,000\n"
     ]
    }
   ],
   "source": [
    "from pyqubo import solve_qubo\n",
    "import dimod\n",
    "import math\n",
    "\n",
    "print(\"[Inputs]\")\n",
    "print()\n",
    "print(\"W (ナップサックの容量) : \"+str(W/10)+\"kg\")\n",
    "print(\"N (宝物の数): \"+str(N))\n",
    "print()\n",
    "print(\"weight list\")\n",
    "print(w)\n",
    "print()\n",
    "print(\"cost list\")\n",
    "print(c)\n",
    "print()\n",
    "print(\"A : \"+str(A))\n",
    "print(\"B : \"+str(B))\n",
    "\n",
    "H = HA + HB\n",
    "Q = H\n",
    "model = Q.compile()\n",
    "q, offset = model.to_qubo()\n",
    "\n",
    "sampleset = dimod.ExactSolver().sample_qubo(q)\n",
    "decoded_sample  = model.decode_sample(sampleset.first.sample, vartype=\"BINARY\")\n",
    "print()\n",
    "print(\"[Results]\")\n",
    "print()\n",
    "print(\"decoded_sample.sample:\")\n",
    "print(decoded_sample.sample)\n",
    "print()\n",
    "print(\"x (選ばれた宝物) :\")\n",
    "\n",
    "treasures = ['A','B','C','D','E','F','G']\n",
    "weight = 0\n",
    "cost = 0\n",
    "\n",
    "for k in range(N):\n",
    "    if decoded_sample.array('x', k) != 0:\n",
    "        print(\"宝物\"+treasures[k])\n",
    "        weight += w[k]\n",
    "        cost += c[k]\n",
    "\n",
    "\n",
    "sol_y = sum(2**k * v for k, v in [(elem, decoded_sample.array('y', elem)) for elem in range(math.ceil(math.log2(W)))])\n",
    "\n",
    "print()\n",
    "print(\"スラック変数Y = {}\".format(sol_y))\n",
    "print()\n",
    "print(\"broken\")\n",
    "print(decoded_sample.constraints(only_broken=True))\n",
    "print(\"合計の重さ : \"+str(weight/10)+\"kg\")\n",
    "print(\"合計の価格 : $\"+str(cost)+\",000\")"
   ]
  },
  {
   "cell_type": "code",
   "execution_count": null,
   "id": "4b1d2121-a2bc-4fc7-afe4-173fbd25a898",
   "metadata": {},
   "outputs": [],
   "source": []
  }
 ],
 "metadata": {
  "kernelspec": {
   "display_name": "Python 3 (ipykernel)",
   "language": "python",
   "name": "python3"
  },
  "language_info": {
   "codemirror_mode": {
    "name": "ipython",
    "version": 3
   },
   "file_extension": ".py",
   "mimetype": "text/x-python",
   "name": "python",
   "nbconvert_exporter": "python",
   "pygments_lexer": "ipython3",
   "version": "3.9.13"
  }
 },
 "nbformat": 4,
 "nbformat_minor": 5
}
